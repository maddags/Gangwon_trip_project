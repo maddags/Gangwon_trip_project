{
 "cells": [
  {
   "cell_type": "code",
   "execution_count": 25,
   "metadata": {},
   "outputs": [],
   "source": [
    "import selenium \n",
    "from selenium import webdriver\n",
    "from selenium.webdriver.common.keys import Keys\n",
    "from urllib import response\n",
    "import time\n",
    "import pandas as pd"
   ]
  },
  {
   "cell_type": "code",
   "execution_count": 26,
   "metadata": {},
   "outputs": [],
   "source": [
    "# driver 오류\n",
    "options = webdriver.ChromeOptions()\n",
    "options.add_experimental_option(\"excludeSwitches\", [\"enable-logging\"])"
   ]
  },
  {
   "cell_type": "code",
   "execution_count": 27,
   "metadata": {},
   "outputs": [],
   "source": [
    "url = \"https://kr.trip.com/global-search/searchlist/search/?keyword={search}&from=home\"\n",
    "search = \"남이섬\"\n",
    "url = url.format(search = search)\n",
    "driver = webdriver.Chrome(\"C:/Users/madda/.ssh/project_3/chromedriver.exe\",options=options)\n",
    "driver.get(url)\n",
    "driver.find_element_by_css_selector(\"div.content > div > div > a\").click()\n",
    "\n",
    "# 평점,평점 작성일\n",
    "score_info = driver.find_elements_by_css_selector('div.gl-poi-detail_comment-content > div > span')\n",
    "\n",
    "# 리뷰\n",
    "test = driver.find_elements_by_css_selector('div.gl-poi-detail_comment-content > div > a')\n",
    "time.sleep(1)"
   ]
  },
  {
   "cell_type": "code",
   "execution_count": 31,
   "metadata": {},
   "outputs": [
    {
     "name": "stdout",
     "output_type": "stream",
     "text": [
      "작성일: 2019년 6월 18일\n",
      "['작성일:', '2019년', '6월', '18일']\n",
      "2019년6월18일\n",
      "작성일: 2021년 7월 20일\n",
      "['작성일:', '2021년', '7월', '20일']\n",
      "2021년7월20일\n",
      "작성일: 2021년 6월 14일\n",
      "['작성일:', '2021년', '6월', '14일']\n",
      "2021년6월14일\n",
      "작성일: 2021년 7월 29일\n",
      "['작성일:', '2021년', '7월', '29일']\n",
      "2021년7월29일\n",
      "작성일: 2020년 8월 27일\n",
      "['작성일:', '2020년', '8월', '27일']\n",
      "2020년8월27일\n",
      "작성일: 2022년 6월 2일\n",
      "['작성일:', '2022년', '6월', '2일']\n",
      "2022년6월2일\n",
      "작성일: 2022년 6월 2일\n",
      "['작성일:', '2022년', '6월', '2일']\n",
      "2022년6월2일\n"
     ]
    }
   ],
   "source": [
    "num = 0\n",
    "score_list = []\n",
    "score_date_list = []\n",
    "for point in score_info:\n",
    "    num += 1\n",
    "    if (num % 4) == 1 :\n",
    "        score = point.text\n",
    "        # print(score) \n",
    "        score_list.append(score)\n",
    "        # print(score)\n",
    "    elif (num%4) == 0:\n",
    "        date = point.text\n",
    "        print(date)\n",
    "        date = date.split(\" \")\n",
    "        print(date)\n",
    "        date = date[1] + date[2] + date[3]\n",
    "        date[2] = date[2].relace(\"1월\",\"01월\").replace()\n",
    "        print(date)\n",
    "        score_date_list.append(date)\n",
    "        # print(date)\n",
    "        # print()\n",
    "        # print(\"-\"*50)"
   ]
  },
  {
   "cell_type": "code",
   "execution_count": 29,
   "metadata": {},
   "outputs": [],
   "source": [
    "coment_list = []\n",
    "for place in test :\n",
    "    coment = place.get_attribute(\"alt\")\n",
    "    coment_list.append(coment)\n",
    "    # print()\n",
    "    # print(\"-\"*50)"
   ]
  },
  {
   "cell_type": "code",
   "execution_count": 30,
   "metadata": {},
   "outputs": [
    {
     "name": "stdout",
     "output_type": "stream",
     "text": [
      "  평점         작성일                                                 댓글\n",
      "0  5  2019년6월18일  봄에는 벚꽃이 만발하고여름에는 시원한 강가에서 스피드보트타고가을은 남이섬과 근교 자...\n",
      "1  5  2021년7월20일  看过南怡岛，还有热门韩剧来自星星的你的都知道这里，不过这里在加平，要门票的哦，也是韩国人周六...\n",
      "2  5  2021년6월14일  韓国首尔附近之南怡岛，是旅韓者必遊之地，每逢秋季，红叶滿岛，遊人更是樂亦不绝，争相在这岛的每...\n",
      "3  5  2021년7월29일                    남이섬은 언제가도 추억에 젖어들수 있는곳&gt; &lt;\n",
      "4  5  2020년8월27일            대한 남이나라공화국일년 한번씩 꼭 가다왔음갈때마다 새롭고 완전 좋았음👍\n",
      "5  5   2022년6월2일  고즈넉한 호텔에서 1박하고도 남이섬에서 잤다는게 안믿기는 곳! 풀과 숲에 둘러싼 힐...\n",
      "6  5   2022년6월2일  남이섬에서 1박을 보낸 사람은 많이 없을거에요!고즈넉한 호텔에서 충분한 휴식을 취한...\n"
     ]
    }
   ],
   "source": [
    "trip_com = [score_list,score_date_list,coment_list]\n",
    "\n",
    "trip_com = pd.DataFrame(trip_com).T\n",
    "trip_com.columns = [\"평점\",\"작성일\",\"리뷰\"]\n",
    "\n",
    "print(trip_com)"
   ]
  }
 ],
 "metadata": {
  "kernelspec": {
   "display_name": "Python 3.8.8 64-bit",
   "language": "python",
   "name": "python3"
  },
  "language_info": {
   "codemirror_mode": {
    "name": "ipython",
    "version": 3
   },
   "file_extension": ".py",
   "mimetype": "text/x-python",
   "name": "python",
   "nbconvert_exporter": "python",
   "pygments_lexer": "ipython3",
   "version": "3.8.8"
  },
  "orig_nbformat": 4,
  "vscode": {
   "interpreter": {
    "hash": "666f519755c5c4e887834d2d17e2cfabc0e5d9b33db444d4f9581375d518b43c"
   }
  }
 },
 "nbformat": 4,
 "nbformat_minor": 2
}
