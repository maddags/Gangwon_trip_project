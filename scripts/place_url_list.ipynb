{
 "cells": [
  {
   "cell_type": "code",
   "execution_count": 1,
   "metadata": {},
   "outputs": [],
   "source": [
    "import selenium \n",
    "from selenium import webdriver\n",
    "from selenium.webdriver.common.keys import Keys\n",
    "from urllib import response\n",
    "import time\n",
    "import pandas as pd"
   ]
  },
  {
   "cell_type": "code",
   "execution_count": 2,
   "metadata": {},
   "outputs": [],
   "source": [
    "# driver 오류\n",
    "options = webdriver.ChromeOptions()\n",
    "options.add_experimental_option(\"excludeSwitches\", [\"enable-logging\"])"
   ]
  },
  {
   "cell_type": "code",
   "execution_count": 3,
   "metadata": {},
   "outputs": [],
   "source": [
    "# URL 설정\n",
    "search = \"강원도\"\n",
    "url = \"https://kr.trip.com/global-search/searchlist/search/?keyword={search}&from=home\"\n",
    "url = url.format(search=search)"
   ]
  },
  {
   "cell_type": "code",
   "execution_count": 4,
   "metadata": {},
   "outputs": [],
   "source": [
    "# URL 접속\n",
    "driver = webdriver.Chrome(\"C:/Users/madda/.ssh/project_3/Gangwon_trip_project/chromedriver.exe\",options=options)\n",
    "driver.get(url)"
   ]
  },
  {
   "cell_type": "code",
   "execution_count": 5,
   "metadata": {},
   "outputs": [],
   "source": [
    "# 크롤링할 정보 들어가기\n",
    "driver.find_element_by_xpath('//*[@id=\"__next\"]/div[2]/div/div[3]/div/ul/li[3]').click()\n",
    "time.sleep(2)"
   ]
  },
  {
   "cell_type": "code",
   "execution_count": 6,
   "metadata": {},
   "outputs": [],
   "source": [
    "# 장소 목록\n",
    "page = driver.find_elements_by_css_selector(\"ul.gl-cpt-pager > li\")\n",
    "page_cnt = int(page[-1].text)\n",
    "place_url_list = []\n",
    "for page in range(page_cnt):\n",
    "    places_url = driver.find_elements_by_css_selector(\"div.gl-search-result_list > div.content > div.gl-search-result_list-content > div > a\")\n",
    "    for place in places_url:\n",
    "        place_url =place.get_attribute(\"href\")\n",
    "        place_url_list.append(place_url)\n",
    "    driver.find_element_by_css_selector(\"div.gl-search-result_page > div > button.btn-next\").send_keys(Keys.ENTER)\n",
    "    time.sleep(2)"
   ]
  },
  {
   "cell_type": "code",
   "execution_count": 7,
   "metadata": {},
   "outputs": [
    {
     "name": "stdout",
     "output_type": "stream",
     "text": [
      "['https://kr.trip.com/travel-guide/attraction/chuncheon-si/nami-island-89813/', 'https://kr.trip.com/travel-guide/attraction/chuncheon-si/gangwon-provincial-botanic-garden-13632218/', 'https://kr.trip.com/travel-guide/attraction/gangneung-si/jeongdongjin-ri-96168/', 'https://kr.trip.com/travel-guide/attraction/yangyang/city-10759248/', 'https://kr.trip.com/travel-guide/attraction/sokcho-si/seoraksan-national-park-89814/', 'https://kr.trip.com/travel-guide/attraction/gangneung-si/gyeongpodae-90988/', 'https://kr.trip.com/travel-guide/attraction/sokcho-si/seorak-waterpia-10759243/', 'https://kr.trip.com/travel-guide/attraction/gangneung-si/gyeongpo-beach-20906251/', 'https://kr.trip.com/travel-guide/attraction/chuncheon-si/jade-garden-101498/', 'https://kr.trip.com/travel-guide/attraction/chuncheon-si/chuncheon-si-99722/']\n",
      "682\n"
     ]
    }
   ],
   "source": [
    "print(place_url_list[0:10])\n",
    "print(len(place_url_list))"
   ]
  },
  {
   "cell_type": "code",
   "execution_count": 28,
   "metadata": {},
   "outputs": [],
   "source": [
    "place_url_list = pd.DataFrame(place_url_list, columns = [\"URL\"])"
   ]
  },
  {
   "cell_type": "code",
   "execution_count": 29,
   "metadata": {},
   "outputs": [
    {
     "data": {
      "text/html": [
       "<div>\n",
       "<style scoped>\n",
       "    .dataframe tbody tr th:only-of-type {\n",
       "        vertical-align: middle;\n",
       "    }\n",
       "\n",
       "    .dataframe tbody tr th {\n",
       "        vertical-align: top;\n",
       "    }\n",
       "\n",
       "    .dataframe thead th {\n",
       "        text-align: right;\n",
       "    }\n",
       "</style>\n",
       "<table border=\"1\" class=\"dataframe\">\n",
       "  <thead>\n",
       "    <tr style=\"text-align: right;\">\n",
       "      <th></th>\n",
       "      <th>URL</th>\n",
       "    </tr>\n",
       "  </thead>\n",
       "  <tbody>\n",
       "    <tr>\n",
       "      <th>0</th>\n",
       "      <td>https://kr.trip.com/travel-guide/attraction/ch...</td>\n",
       "    </tr>\n",
       "    <tr>\n",
       "      <th>1</th>\n",
       "      <td>https://kr.trip.com/travel-guide/attraction/ch...</td>\n",
       "    </tr>\n",
       "    <tr>\n",
       "      <th>2</th>\n",
       "      <td>https://kr.trip.com/travel-guide/attraction/ga...</td>\n",
       "    </tr>\n",
       "    <tr>\n",
       "      <th>3</th>\n",
       "      <td>https://kr.trip.com/travel-guide/attraction/ya...</td>\n",
       "    </tr>\n",
       "    <tr>\n",
       "      <th>4</th>\n",
       "      <td>https://kr.trip.com/travel-guide/attraction/so...</td>\n",
       "    </tr>\n",
       "    <tr>\n",
       "      <th>...</th>\n",
       "      <td>...</td>\n",
       "    </tr>\n",
       "    <tr>\n",
       "      <th>677</th>\n",
       "      <td>https://kr.trip.com/travel-guide/attraction/ho...</td>\n",
       "    </tr>\n",
       "    <tr>\n",
       "      <th>678</th>\n",
       "      <td>https://kr.trip.com/travel-guide/attraction/ga...</td>\n",
       "    </tr>\n",
       "    <tr>\n",
       "      <th>679</th>\n",
       "      <td>https://kr.trip.com/travel-guide/attraction/py...</td>\n",
       "    </tr>\n",
       "    <tr>\n",
       "      <th>680</th>\n",
       "      <td>https://kr.trip.com/travel-guide/attraction/ya...</td>\n",
       "    </tr>\n",
       "    <tr>\n",
       "      <th>681</th>\n",
       "      <td>https://kr.trip.com/travel-guide/attraction/ga...</td>\n",
       "    </tr>\n",
       "  </tbody>\n",
       "</table>\n",
       "<p>682 rows × 1 columns</p>\n",
       "</div>"
      ],
      "text/plain": [
       "                                                   URL\n",
       "0    https://kr.trip.com/travel-guide/attraction/ch...\n",
       "1    https://kr.trip.com/travel-guide/attraction/ch...\n",
       "2    https://kr.trip.com/travel-guide/attraction/ga...\n",
       "3    https://kr.trip.com/travel-guide/attraction/ya...\n",
       "4    https://kr.trip.com/travel-guide/attraction/so...\n",
       "..                                                 ...\n",
       "677  https://kr.trip.com/travel-guide/attraction/ho...\n",
       "678  https://kr.trip.com/travel-guide/attraction/ga...\n",
       "679  https://kr.trip.com/travel-guide/attraction/py...\n",
       "680  https://kr.trip.com/travel-guide/attraction/ya...\n",
       "681  https://kr.trip.com/travel-guide/attraction/ga...\n",
       "\n",
       "[682 rows x 1 columns]"
      ]
     },
     "execution_count": 29,
     "metadata": {},
     "output_type": "execute_result"
    }
   ],
   "source": [
    "place_url_list"
   ]
  },
  {
   "cell_type": "code",
   "execution_count": 33,
   "metadata": {},
   "outputs": [],
   "source": [
    "place_url_list.to_csv(\"../data/tripcom_place_url_list.csv\", index = False)"
   ]
  },
  {
   "cell_type": "code",
   "execution_count": 25,
   "metadata": {},
   "outputs": [
    {
     "name": "stdout",
     "output_type": "stream",
     "text": [
      "남이섬\n",
      "섬/반도\n",
      "해변\n",
      "08:00-21:00 영업\n",
      "3-4시간\n",
      "강원도 춘천시 남산면 남이섬길 1\n",
      "강원도립화목원\n",
      "도시 공원\n",
      "10:00-18:00 영업\n",
      "2시간\n",
      "대한민국 강원도 춘천시 신사우동 화목원길 24\n",
      "정동진\n",
      "도시 랜드 마크\n",
      "연중무휴\n",
      "2-4시간\n",
      "대한민국 강릉시 강동면\n",
      "쏠비치 양양 오션플레이\n",
      "리조트\n",
      "온천 리조트\n",
      "정보없음\n",
      "정보없음\n",
      "강원도 양양군 손양면 선사유적로 678\n",
      "설악산 국립공원\n",
      "산\n",
      "국립공원\n",
      "등산\n",
      "09:00-18:00 영업\n",
      "0.5-1일\n",
      "강원도 양양군 서면약수길 설악산국립공원 오색남 설악 매표소\n",
      "경포대\n",
      "사적지\n",
      "연중무휴\n",
      "1-2시간\n",
      "강원도 강릉시 저동 경포로 365\n",
      "설악 워터피아\n",
      "온천 리조트\n",
      "워터파크\n",
      "테마파크\n",
      "월요일, 목요일-일요일 10:00-18:30 영업\n",
      "2시간\n",
      "강원도 속초시 장사동 24-1\n",
      "경포해변\n",
      "해안\n",
      "00:00-23:59 영업\n",
      "1-2시간\n",
      "강원도 강릉시 강동산 1번지\n",
      "제이드가든수목원\n",
      "식물원\n",
      "09:00-18:00 영업\n",
      "1-2시간\n",
      "강원도 춘천시 남산면 햇골길 80\n",
      "춘천시\n",
      "도시 랜드 마크\n",
      "연중무휴\n",
      "1일\n",
      "강원도 춘천시\n"
     ]
    }
   ],
   "source": [
    "place_list = []                # 장소\n",
    "place_type_list = []       # 장소 분류\n",
    "bnt_list = []                   # 운영시간\n",
    "rcm_time_list = []         # 추천관광시간\n",
    "address_list = []            # 주소\n",
    "\n",
    "# 페이지 들어가기\n",
    "for place in place_url_list[0:10]:\n",
    "    driver.get(place)\n",
    "    # time.sleep(1)\n",
    "    driver.implicitly_wait(2)\n",
    "\n",
    "    # 장소\n",
    "    place_css = driver.find_element_by_css_selector(\"h1.basicName\")\n",
    "\n",
    "    # 장소 분류\n",
    "    try :\n",
    "        place_type_css = driver.find_elements_by_css_selector(\"div.gl-poi-detail_tags > span\")\n",
    "    except selenium.common.exceptions.NoSuchElementException:\n",
    "        place_type_css = \"정보없음\"\n",
    "    \n",
    "    # info_list = driver.find_elements_by_css_selector('span.field')\n",
    "    \n",
    "    # 운영시간\n",
    "    try :\n",
    "        bnt_css = driver.find_element_by_xpath('//*[@id=\"poi.detail.overview\"]/div/div[2]/div/div[3]/div[1]/div[1]/div/span[2]')\n",
    "        # bnt = info_list[0].text\n",
    "        bnt = bnt_css.text\n",
    "    except selenium.common.exceptions.NoSuchElementException:\n",
    "        bnt = \"정보없음\"\n",
    "    # 관광 추천시간\n",
    "    try:\n",
    "        rcm_time_css = driver.find_element_by_xpath('//*[@id=\"poi.detail.overview\"]/div/div[2]/div/div[3]/div[1]/div[2]/div/span[2]')\n",
    "        # rcm_time = info_list[1].text\n",
    "        rcm_time = rcm_time_css.text\n",
    "    except selenium.common.exceptions.NoSuchElementException:\n",
    "        rcm_time = \"정보없음\"\n",
    "    # 주소\n",
    "    try :\n",
    "        address_css = driver.find_element_by_css_selector('div.address > div > div > div > div > span.field')\n",
    "        # address = info_list[2].text\n",
    "        address = address_css.text\n",
    "    except selenium.common.exceptions.NoSuchElementException:\n",
    "        address = \"정보없음\"\n",
    "        \n",
    "    # 데이터 수집\n",
    "    ## 장소\n",
    "    print(place_css.text)\n",
    "    place_list.append(place_css.text)\n",
    "\n",
    "    ## 장소 분류\n",
    "    place_types = []\n",
    "    for type in place_type_css:\n",
    "        print(type.text)\n",
    "        place_types.append(type.text)\n",
    "    place_type_list.append(place_types)\n",
    "\n",
    "    ## 운영시간\n",
    "    print(bnt)\n",
    "    bnt_list.append(bnt)\n",
    "    \n",
    "    ## 관광 추천시간\n",
    "    print(rcm_time)\n",
    "    rcm_time_list.append(rcm_time)\n",
    "    \n",
    "    ## 주소 \n",
    "    print(address)\n",
    "    address_list.append(address)"
   ]
  },
  {
   "cell_type": "code",
   "execution_count": 26,
   "metadata": {},
   "outputs": [],
   "source": [
    "info_table = [place_list,place_type_list,bnt_list,rcm_time_list,address_list]\n",
    "info_table = pd.DataFrame(info_table).T\n",
    "info_table.columns = [\"장소\",\"분류\",\"운영시간\",\"관광추천시간\",\"주소\"]"
   ]
  },
  {
   "cell_type": "code",
   "execution_count": 27,
   "metadata": {},
   "outputs": [
    {
     "name": "stdout",
     "output_type": "stream",
     "text": [
      "             장소                    분류                         운영시간  관광추천시간  \\\n",
      "0           남이섬            [섬/반도, 해변]               08:00-21:00 영업   3-4시간   \n",
      "1       강원도립화목원               [도시 공원]               10:00-18:00 영업     2시간   \n",
      "2           정동진            [도시 랜드 마크]                         연중무휴   2-4시간   \n",
      "3  쏠비치 양양 오션플레이         [리조트, 온천 리조트]                         정보없음    정보없음   \n",
      "4      설악산 국립공원         [산, 국립공원, 등산]               09:00-18:00 영업  0.5-1일   \n",
      "5           경포대                 [사적지]                         연중무휴   1-2시간   \n",
      "6       설악 워터피아  [온천 리조트, 워터파크, 테마파크]  월요일, 목요일-일요일 10:00-18:30 영업     2시간   \n",
      "7          경포해변                  [해안]               00:00-23:59 영업   1-2시간   \n",
      "8      제이드가든수목원                 [식물원]               09:00-18:00 영업   1-2시간   \n",
      "9           춘천시            [도시 랜드 마크]                         연중무휴      1일   \n",
      "\n",
      "                                 주소  \n",
      "0                강원도 춘천시 남산면 남이섬길 1  \n",
      "1         대한민국 강원도 춘천시 신사우동 화목원길 24  \n",
      "2                      대한민국 강릉시 강동면  \n",
      "3             강원도 양양군 손양면 선사유적로 678  \n",
      "4  강원도 양양군 서면약수길 설악산국립공원 오색남 설악 매표소  \n",
      "5                강원도 강릉시 저동 경포로 365  \n",
      "6                  강원도 속초시 장사동 24-1  \n",
      "7                   강원도 강릉시 강동산 1번지  \n",
      "8                강원도 춘천시 남산면 햇골길 80  \n",
      "9                           강원도 춘천시  \n"
     ]
    }
   ],
   "source": [
    "print(info_table)"
   ]
  }
 ],
 "metadata": {
  "kernelspec": {
   "display_name": "Python 3.8.8 64-bit",
   "language": "python",
   "name": "python3"
  },
  "language_info": {
   "codemirror_mode": {
    "name": "ipython",
    "version": 3
   },
   "file_extension": ".py",
   "mimetype": "text/x-python",
   "name": "python",
   "nbconvert_exporter": "python",
   "pygments_lexer": "ipython3",
   "version": "3.8.8"
  },
  "orig_nbformat": 4,
  "vscode": {
   "interpreter": {
    "hash": "666f519755c5c4e887834d2d17e2cfabc0e5d9b33db444d4f9581375d518b43c"
   }
  }
 },
 "nbformat": 4,
 "nbformat_minor": 2
}
